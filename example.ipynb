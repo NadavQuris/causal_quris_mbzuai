{
 "cells": [
  {
   "cell_type": "code",
   "execution_count": 1,
   "metadata": {
    "collapsed": true,
    "ExecuteTime": {
     "end_time": "2023-07-18T13:08:57.908448Z",
     "start_time": "2023-07-18T13:08:57.303720Z"
    }
   },
   "outputs": [],
   "source": [
    "import pandas as pd\n",
    "\n",
    "from mol_utils.structure_from_names import get_inchi_and_smiles_from_list_of_names\n",
    "from mol_utils.utils import add_chembl_structural_alerts_column_to_df, add_scaffold_column_to_df, add_rdkit_fingerprint_column_to_df"
   ]
  },
  {
   "cell_type": "code",
   "execution_count": 2,
   "outputs": [
    {
     "name": "stderr",
     "output_type": "stream",
     "text": [
      "Gathering inchi from sources: 100%|██████████| 2/2 [00:12<00:00,  6.47s/it]\n"
     ]
    },
    {
     "data": {
      "text/plain": "            name                                              inchi  \\\n0  acetaminophen  InChI=1S/C8H9NO2/c1-6(10)9-7-2-4-8(11)5-3-7/h2...   \n1        cocaine  InChI=1S/C17H21NO4/c1-18-12-8-9-13(18)15(17(20...   \n\n                                              smiles  \n0                                 CC(O)=Nc1ccc(O)cc1  \n1  COC(=O)[C@H]1[C@@H](OC(=O)c2ccccc2)C[C@@H]2CC[...  ",
      "text/html": "<div>\n<style scoped>\n    .dataframe tbody tr th:only-of-type {\n        vertical-align: middle;\n    }\n\n    .dataframe tbody tr th {\n        vertical-align: top;\n    }\n\n    .dataframe thead th {\n        text-align: right;\n    }\n</style>\n<table border=\"1\" class=\"dataframe\">\n  <thead>\n    <tr style=\"text-align: right;\">\n      <th></th>\n      <th>name</th>\n      <th>inchi</th>\n      <th>smiles</th>\n    </tr>\n  </thead>\n  <tbody>\n    <tr>\n      <th>0</th>\n      <td>acetaminophen</td>\n      <td>InChI=1S/C8H9NO2/c1-6(10)9-7-2-4-8(11)5-3-7/h2...</td>\n      <td>CC(O)=Nc1ccc(O)cc1</td>\n    </tr>\n    <tr>\n      <th>1</th>\n      <td>cocaine</td>\n      <td>InChI=1S/C17H21NO4/c1-18-12-8-9-13(18)15(17(20...</td>\n      <td>COC(=O)[C@H]1[C@@H](OC(=O)c2ccccc2)C[C@@H]2CC[...</td>\n    </tr>\n  </tbody>\n</table>\n</div>"
     },
     "execution_count": 2,
     "metadata": {},
     "output_type": "execute_result"
    }
   ],
   "source": [
    "names = [\"acetaminophen\", \"cocaine\"]\n",
    "inchi, smiles, failed = get_inchi_and_smiles_from_list_of_names(names)\n",
    "df = pd.DataFrame({\"name\": names, \"inchi\": inchi, \"smiles\": smiles})\n",
    "df"
   ],
   "metadata": {
    "collapsed": false,
    "ExecuteTime": {
     "end_time": "2023-07-18T13:09:10.774425Z",
     "start_time": "2023-07-18T13:08:57.799167Z"
    }
   }
  },
  {
   "cell_type": "code",
   "execution_count": 3,
   "outputs": [
    {
     "name": "stderr",
     "output_type": "stream",
     "text": [
      "adding column chembl_structural_alerts: 100%|██████████| 2/2 [00:00<00:00, 364.37it/s]\n"
     ]
    },
    {
     "data": {
      "text/plain": "            name                                              inchi  \\\n0  acetaminophen  InChI=1S/C8H9NO2/c1-6(10)9-7-2-4-8(11)5-3-7/h2...   \n1        cocaine  InChI=1S/C17H21NO4/c1-18-12-8-9-13(18)15(17(20...   \n\n                                              smiles chembl_structural_alerts  \n0                                 CC(O)=Nc1ccc(O)cc1                  [imine]  \n1  COC(=O)[C@H]1[C@@H](OC(=O)c2ccccc2)C[C@@H]2CC[...                  [Ester]  ",
      "text/html": "<div>\n<style scoped>\n    .dataframe tbody tr th:only-of-type {\n        vertical-align: middle;\n    }\n\n    .dataframe tbody tr th {\n        vertical-align: top;\n    }\n\n    .dataframe thead th {\n        text-align: right;\n    }\n</style>\n<table border=\"1\" class=\"dataframe\">\n  <thead>\n    <tr style=\"text-align: right;\">\n      <th></th>\n      <th>name</th>\n      <th>inchi</th>\n      <th>smiles</th>\n      <th>chembl_structural_alerts</th>\n    </tr>\n  </thead>\n  <tbody>\n    <tr>\n      <th>0</th>\n      <td>acetaminophen</td>\n      <td>InChI=1S/C8H9NO2/c1-6(10)9-7-2-4-8(11)5-3-7/h2...</td>\n      <td>CC(O)=Nc1ccc(O)cc1</td>\n      <td>[imine]</td>\n    </tr>\n    <tr>\n      <th>1</th>\n      <td>cocaine</td>\n      <td>InChI=1S/C17H21NO4/c1-18-12-8-9-13(18)15(17(20...</td>\n      <td>COC(=O)[C@H]1[C@@H](OC(=O)c2ccccc2)C[C@@H]2CC[...</td>\n      <td>[Ester]</td>\n    </tr>\n  </tbody>\n</table>\n</div>"
     },
     "execution_count": 3,
     "metadata": {},
     "output_type": "execute_result"
    }
   ],
   "source": [
    "with_alerts = add_chembl_structural_alerts_column_to_df(df)\n",
    "with_alerts"
   ],
   "metadata": {
    "collapsed": false,
    "ExecuteTime": {
     "end_time": "2023-07-18T13:09:10.879850Z",
     "start_time": "2023-07-18T13:09:10.772169Z"
    }
   }
  },
  {
   "cell_type": "code",
   "execution_count": 4,
   "outputs": [
    {
     "name": "stderr",
     "output_type": "stream",
     "text": [
      "adding column scaffold: 100%|██████████| 2/2 [00:00<00:00, 1018.78it/s]\n"
     ]
    },
    {
     "data": {
      "text/plain": "            name                                              inchi  \\\n0  acetaminophen  InChI=1S/C8H9NO2/c1-6(10)9-7-2-4-8(11)5-3-7/h2...   \n1        cocaine  InChI=1S/C17H21NO4/c1-18-12-8-9-13(18)15(17(20...   \n\n                                              smiles chembl_structural_alerts  \\\n0                                 CC(O)=Nc1ccc(O)cc1                  [imine]   \n1  COC(=O)[C@H]1[C@@H](OC(=O)c2ccccc2)C[C@@H]2CC[...                  [Ester]   \n\n                                            scaffold  \n0                 InChI=1S/C6H6/c1-2-4-6-5-3-1/h1-6H  \n1  InChI=1S/C14H17NO2/c16-14(10-4-2-1-3-5-10)17-1...  ",
      "text/html": "<div>\n<style scoped>\n    .dataframe tbody tr th:only-of-type {\n        vertical-align: middle;\n    }\n\n    .dataframe tbody tr th {\n        vertical-align: top;\n    }\n\n    .dataframe thead th {\n        text-align: right;\n    }\n</style>\n<table border=\"1\" class=\"dataframe\">\n  <thead>\n    <tr style=\"text-align: right;\">\n      <th></th>\n      <th>name</th>\n      <th>inchi</th>\n      <th>smiles</th>\n      <th>chembl_structural_alerts</th>\n      <th>scaffold</th>\n    </tr>\n  </thead>\n  <tbody>\n    <tr>\n      <th>0</th>\n      <td>acetaminophen</td>\n      <td>InChI=1S/C8H9NO2/c1-6(10)9-7-2-4-8(11)5-3-7/h2...</td>\n      <td>CC(O)=Nc1ccc(O)cc1</td>\n      <td>[imine]</td>\n      <td>InChI=1S/C6H6/c1-2-4-6-5-3-1/h1-6H</td>\n    </tr>\n    <tr>\n      <th>1</th>\n      <td>cocaine</td>\n      <td>InChI=1S/C17H21NO4/c1-18-12-8-9-13(18)15(17(20...</td>\n      <td>COC(=O)[C@H]1[C@@H](OC(=O)c2ccccc2)C[C@@H]2CC[...</td>\n      <td>[Ester]</td>\n      <td>InChI=1S/C14H17NO2/c16-14(10-4-2-1-3-5-10)17-1...</td>\n    </tr>\n  </tbody>\n</table>\n</div>"
     },
     "execution_count": 4,
     "metadata": {},
     "output_type": "execute_result"
    }
   ],
   "source": [
    "with_alerts_and_scaffold = add_scaffold_column_to_df(with_alerts)\n",
    "with_alerts_and_scaffold"
   ],
   "metadata": {
    "collapsed": false,
    "ExecuteTime": {
     "end_time": "2023-07-18T13:09:10.905552Z",
     "start_time": "2023-07-18T13:09:10.800904Z"
    }
   }
  },
  {
   "cell_type": "code",
   "execution_count": 5,
   "outputs": [
    {
     "name": "stderr",
     "output_type": "stream",
     "text": [
      "adding column rdkit_fingerprint: 100%|██████████| 2/2 [00:00<00:00, 664.92it/s]\n"
     ]
    },
    {
     "data": {
      "text/plain": "            name                                              inchi  \\\n0  acetaminophen  InChI=1S/C8H9NO2/c1-6(10)9-7-2-4-8(11)5-3-7/h2...   \n1        cocaine  InChI=1S/C17H21NO4/c1-18-12-8-9-13(18)15(17(20...   \n\n                                              smiles chembl_structural_alerts  \\\n0                                 CC(O)=Nc1ccc(O)cc1                  [imine]   \n1  COC(=O)[C@H]1[C@@H](OC(=O)c2ccccc2)C[C@@H]2CC[...                  [Ester]   \n\n                                            scaffold  \\\n0                 InChI=1S/C6H6/c1-2-4-6-5-3-1/h1-6H   \n1  InChI=1S/C14H17NO2/c16-14(10-4-2-1-3-5-10)17-1...   \n\n                                   rdkit_fingerprint  \n0  [0, 0, 0, 0, 1, 0, 0, 1, 0, 0, 0, 0, 0, 0, 0, ...  \n1  [1, 1, 1, 0, 0, 1, 0, 1, 1, 1, 0, 0, 1, 0, 0, ...  ",
      "text/html": "<div>\n<style scoped>\n    .dataframe tbody tr th:only-of-type {\n        vertical-align: middle;\n    }\n\n    .dataframe tbody tr th {\n        vertical-align: top;\n    }\n\n    .dataframe thead th {\n        text-align: right;\n    }\n</style>\n<table border=\"1\" class=\"dataframe\">\n  <thead>\n    <tr style=\"text-align: right;\">\n      <th></th>\n      <th>name</th>\n      <th>inchi</th>\n      <th>smiles</th>\n      <th>chembl_structural_alerts</th>\n      <th>scaffold</th>\n      <th>rdkit_fingerprint</th>\n    </tr>\n  </thead>\n  <tbody>\n    <tr>\n      <th>0</th>\n      <td>acetaminophen</td>\n      <td>InChI=1S/C8H9NO2/c1-6(10)9-7-2-4-8(11)5-3-7/h2...</td>\n      <td>CC(O)=Nc1ccc(O)cc1</td>\n      <td>[imine]</td>\n      <td>InChI=1S/C6H6/c1-2-4-6-5-3-1/h1-6H</td>\n      <td>[0, 0, 0, 0, 1, 0, 0, 1, 0, 0, 0, 0, 0, 0, 0, ...</td>\n    </tr>\n    <tr>\n      <th>1</th>\n      <td>cocaine</td>\n      <td>InChI=1S/C17H21NO4/c1-18-12-8-9-13(18)15(17(20...</td>\n      <td>COC(=O)[C@H]1[C@@H](OC(=O)c2ccccc2)C[C@@H]2CC[...</td>\n      <td>[Ester]</td>\n      <td>InChI=1S/C14H17NO2/c16-14(10-4-2-1-3-5-10)17-1...</td>\n      <td>[1, 1, 1, 0, 0, 1, 0, 1, 1, 1, 0, 0, 1, 0, 0, ...</td>\n    </tr>\n  </tbody>\n</table>\n</div>"
     },
     "execution_count": 5,
     "metadata": {},
     "output_type": "execute_result"
    }
   ],
   "source": [
    "with_alerts_and_scaffold_and_fingerprint = add_rdkit_fingerprint_column_to_df(with_alerts_and_scaffold)\n",
    "with_alerts_and_scaffold_and_fingerprint"
   ],
   "metadata": {
    "collapsed": false,
    "ExecuteTime": {
     "end_time": "2023-07-18T13:09:10.958410Z",
     "start_time": "2023-07-18T13:09:10.809432Z"
    }
   }
  }
 ],
 "metadata": {
  "kernelspec": {
   "display_name": "Python 3",
   "language": "python",
   "name": "python3"
  },
  "language_info": {
   "codemirror_mode": {
    "name": "ipython",
    "version": 2
   },
   "file_extension": ".py",
   "mimetype": "text/x-python",
   "name": "python",
   "nbconvert_exporter": "python",
   "pygments_lexer": "ipython2",
   "version": "2.7.6"
  }
 },
 "nbformat": 4,
 "nbformat_minor": 0
}
